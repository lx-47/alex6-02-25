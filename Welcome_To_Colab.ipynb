{
  "cells": [
    {
      "cell_type": "markdown",
      "metadata": {
        "id": "view-in-github",
        "colab_type": "text"
      },
      "source": [
        "<a href=\"https://colab.research.google.com/github/lx-47/alex6-02-25/blob/main/Welcome_To_Colab.ipynb\" target=\"_parent\"><img src=\"https://colab.research.google.com/assets/colab-badge.svg\" alt=\"Open In Colab\"/></a>"
      ]
    },
    {
      "cell_type": "code",
      "source": [
        "#https://en.wikipedia.org/wiki/UST_(company)"
      ],
      "metadata": {
        "colab": {
          "base_uri": "https://localhost:8080/"
        },
        "id": "PYkbbHfrqSgc",
        "outputId": "2848a57b-c083-4a2c-f16a-ef5b0b24f6dc"
      },
      "execution_count": 1,
      "outputs": [
        {
          "output_type": "stream",
          "name": "stdout",
          "text": [
            "hello\n"
          ]
        }
      ]
    },
    {
      "cell_type": "code",
      "source": [
        "import requests\n",
        "from bs4 import BeautifulSoup\n",
        "import re\n",
        "from transformers import pipeline\n",
        "\n",
        "url = \"https://en.wikipedia.org/wiki/UST_(company)\"\n",
        "try:\n",
        "  res = requests.get(url)\n",
        "  res.raise_for_status()\n",
        "except requests.exceptions.RequestException as e:\n",
        "  print(\"Error\", e)\n",
        "  exit()\n",
        "\n",
        "soup = BeautifulSoup(res.content, \"html.parser\")\n",
        "div_content = soup.find(\"div\", id=\"mw-content-text\")\n",
        "for unwanted in div_content.find_all([\"sup\", \"style\",\"span\"]):\n",
        "    unwanted.decompose()\n",
        "\n",
        "text_content = div_content.find_all([\"p\",'h3','table'])\n",
        "cleaned_text = '\\n'.join(line.get_text(strip=True) for line in text_content)\n",
        "final_text = cleaned_text\n",
        "print(final_text)"
      ],
      "metadata": {
        "colab": {
          "base_uri": "https://localhost:8080/"
        },
        "id": "_RlgcPnisWNF",
        "outputId": "8c6975f0-9185-4f6a-e604-c25b5ef7efdd"
      },
      "execution_count": 1,
      "outputs": [
        {
          "output_type": "stream",
          "name": "stdout",
          "text": [
            "\n",
            "USTFormerlyUST GlobalCompany typePrivateIndustryProfessional servicesInformation technologyDigital engineeringProduct developmentFounded1999FounderStephen Ross&G. A. MenonHeadquartersOrange County, California,United States &ThiruvananthapuramIndiaNumber of locations30 countriesArea servedWorldwideKey peopleParas ChandariaKrishna SudheendraArun NarayananServicesDigital transformationTechnology and digital consultingNextGen cloud infrastructure (private, public, hybrid cloud)Human-centered designCybersecurityRevenueUSD $1.7B+ (2022)Number of employees30,000+SubsidiariesCyberProofUST HealthProofUST Product EngineeringCogniphi TechnologiesXpanxionWebsitewww.ust.com\n",
            "UST, formerly known asUST Global, is a provider ofdigital technology and transformation,information technologyand services, headquartered inAliso Viejo, California, United States.Stephen Ross founded UST in 1998 inLaguna Hills.The company has offices in theAmericas,EMEA,APAC, and India.\n",
            "In June 2018,Temasek,Singapore’s sovereign wealth fund, investedUS$250 million in UST, giving UST aUS$1 billion-plus valuation.\n",
            "UST offers services in many areas including:\n",
            "digital transformation,cybersecurity, data analytics, data engineering, technology and digital consulting, supply chain management, cloud infrastructure, developer productivity, quality engineering, IT talent sourcing, innovation as a service, legacy modernization, human-centered design, AMS, semiconductor engineering, IOT engineering, intelligent process automation, artificial intelligence, machine learning, and technology strategy, intelligent automation and BPaaS.Examples of specific services include:\n",
            "Cloud\n",
            "In 2020, UST released UST CloudDesk and UST MultiCloud Manager.UST CloudDesk enables enterprises to move workloads between different cloud platforms. UST MultiCloud Manager, an IT-as-a-service platform, allows users to have a zero-touch, single-pane view of their entire IT environment.\n",
            "DevOps\n",
            "UST offers development and operational services such as data management, analysis, and automation for DevSecOps, and digital and cloud transformation.This includes PACE, a product used for implementing and optimizing cloud-native DevOps.\n",
            "In July 2020, UST invested in Smart Software Testing Solutions (SSTS) Inc. to incorporate intelligent testing and digital validation for its Software Validation and Test Automation.SSTS's platforms allow testers to perform manual and automation testing on more than 5000 device-browser combinations.\n",
            "Cybersecurity\n",
            "In July 2020, UST's company CyberProof became an official member of the Microsoft Intelligent Security Association.CyberProof monitors security alerts and suspicious events collected from internal and external customer data sources and detects threats in cloud and on-premises infrastructure threats.\n",
            "UST invests and acquires companies.\n",
            "Temasek\n",
            "UST is based inOrange County,Californiaand has offices in more than 25 countries. It is based in the following regions: theAmericas,EMEA,APAC, and India.\n",
            "UST has started its expansion plans in India in the capital city of Kerala,Thiruvananthapuram, with the construction of its own campus, nearTechnopark.The campus is spread over 36 acres (150,000 m).  The campus will also feature a 12-acre (49,000 m) waterbody channeling through the various blocks of the campus.\n",
            "CyberProof\n",
            "CyberProof is a fully owned subsidiary of UST and founded in 2017 inTel Aviv, Israel.\n",
            "The company is a security services company.\n",
            "In January 2018, UST acquired BISEC, a cybersecurity company, for 5.8 million Dollars and integrated the technology into CyberProof.\n",
            "CyberProof is headquartered inAliso Viejo,California, United States and has regional offices inLondon, United Kingdom;Trivandrum;SingaporeandBarcelona, Spain. As of 2021, the company has approximately 500 employees worldwide. Although it has several offices, its operations have been primarily based in Tel Aviv, Israel, since its founding.\n",
            "Tony Velleca is the chief executive officer of CyberProof and is achief information security officerat UST. Yuval Wollman is President of CyberProof and is responsible for the company's Israel-based Development & Operations.\n",
            "HealthProof\n",
            "UST HealthProof is thehealthcare technologydivision of UST. In 2023, UST HealthProof acquired healthcare technology companyAdvantasure.\n",
            "In early 2008, California arbitrators ruled that US Technology Resources, LLC must pay Stephen J. Ross US $7.5 million for his founding interest in the company. The company had disputed the extent of Ross's actual contributions. The arbitration award was then confirmed by the Los Angeles Superior Court and judgment entered in Ross' favor.\n"
          ]
        }
      ]
    },
    {
      "cell_type": "code",
      "source": [
        "summarizer = pipeline(\"summarization\", model=\"facebook/bart-large-cnn\")\n",
        "summary = summarizer(final_text, max_length=300, min_length=250, do_sample=False)"
      ],
      "metadata": {
        "id": "lvel_8dXAfeR",
        "outputId": "9d60ec45-5af4-480d-bd26-087be0fe3582",
        "colab": {
          "base_uri": "https://localhost:8080/"
        }
      },
      "execution_count": 4,
      "outputs": [
        {
          "output_type": "stream",
          "name": "stderr",
          "text": [
            "Device set to use cuda:0\n"
          ]
        }
      ]
    },
    {
      "cell_type": "code",
      "source": [
        "print(summary[0]['summary_text'])\n",
        "print(len(summary[0]['summary_text'].split()))"
      ],
      "metadata": {
        "id": "3W362eNfAor2",
        "outputId": "bf416257-3360-4164-e148-fcb41790bb2e",
        "colab": {
          "base_uri": "https://localhost:8080/"
        }
      },
      "execution_count": 5,
      "outputs": [
        {
          "output_type": "stream",
          "name": "stdout",
          "text": [
            "UST, formerly known asUST Global, is a provider of digital technology and transformation,information technologyand services.Stephen Ross founded UST in 1998 in Laguna Hills, California. The company has offices in theAmericas,EMEA,APAC, and India. In June 2018,Temasek,Singapore’s sovereign wealth fund, investedUS$250 million in UST, giving UST aUS$1 billion-plus valuation. As of 2021, the company has approximately 500 employees worldwide.UST offers services in many areas including: digital transformation,cybersecurity, data analytics, data engineering, technology and digital consulting, supply chain management, cloud infrastructure, developer productivity, quality engineering, IT talent sourcing, innovation as a service, legacy modernization, human-centered design, AMS, IOT engineering, intelligent process automation, artificial intelligence, machine learning, and technology strategy. examples of specific services include: CloudDesk and UST MultiCloud Manager. UST invested in Smart Software Testing Solutions (SSTS) Inc. to incorporate intelligent testing and digital validation for its Software Validation and Test Automation. In January 2018, UST acquired BISEC, a cybersecurity company, for 5.8 million Dollars and integrated the technology into CyberProof.\n",
            "158\n"
          ]
        }
      ]
    },
    {
      "cell_type": "code",
      "source": [
        "midpoint = len(final_text) // 2\n",
        "first_half = final_text[:midpoint]\n",
        "second_half = final_text[midpoint:]\n",
        "summary_first_half = summarizer(first_half, max_length=150, min_length=100, do_sample=False)\n",
        "summary_second_half = summarizer(second_half, max_length=150, min_length=100, do_sample=False)\n",
        "combined_summary = summary_first_half[0]['summary_text'] + summary_second_half[0]['summary_text']\n",
        "print(combined_summary)"
      ],
      "metadata": {
        "id": "3RxotGucDKXE",
        "outputId": "9ff7d502-9627-4076-a802-aa9cf614c301",
        "colab": {
          "base_uri": "https://localhost:8080/"
        }
      },
      "execution_count": 15,
      "outputs": [
        {
          "output_type": "stream",
          "name": "stdout",
          "text": [
            "UST, formerly known asUST Global, is a provider ofdigital technology and transformation,information technologyand services.Stephen Ross founded UST in 1998 in Laguna Hills, California.UST offers services in many areas including: digital transformation,cybersecurity, data analytics, data engineering, technology and digital consulting, supply chain management, cloud infrastructure, developer productivity, quality engineering, IT talent sourcing, innovation as a service, legacy modernization, human-centered design, AMS, semiconductor engineering, IOT engineering, intelligent process automation, artificial intelligence, machine learning, and technology strategy.UST has offices in more than 25 countries. It is based in the following regions: theAmericas,EMEA,APAC, and India. UST has started its expansion plans in India in the capital city of Kerala,Thiruvananthapuram, with the construction of its own campus, nearTechnopark. In January 2018, UST acquired BISEC, a cybersecurity company, for 5.8 million Dollars and integrated the technology into CyberProof. In early 2008, California arbitrators ruled that US Technology Resources must pay Stephen J. Ross US $7.5 million for his founding interest in the company.\n"
          ]
        }
      ]
    },
    {
      "cell_type": "code",
      "source": [
        "print(print(len(combined_summary.split())))"
      ],
      "metadata": {
        "id": "Q4tqloEYDx4D",
        "outputId": "71bf0e92-da7f-4cc1-cd7e-a1252b0e56cf",
        "colab": {
          "base_uri": "https://localhost:8080/"
        }
      },
      "execution_count": 16,
      "outputs": [
        {
          "output_type": "stream",
          "name": "stdout",
          "text": [
            "157\n",
            "None\n"
          ]
        }
      ]
    }
  ],
  "metadata": {
    "colab": {
      "name": "Welcome To Colab",
      "toc_visible": true,
      "provenance": [],
      "gpuType": "T4",
      "include_colab_link": true
    },
    "kernelspec": {
      "display_name": "Python 3",
      "name": "python3"
    },
    "accelerator": "GPU"
  },
  "nbformat": 4,
  "nbformat_minor": 0
}